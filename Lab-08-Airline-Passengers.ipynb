{
  "nbformat": 4,
  "nbformat_minor": 0,
  "metadata": {
    "colab": {
      "provenance": []
    },
    "kernelspec": {
      "name": "python3",
      "display_name": "Python 3"
    },
    "language_info": {
      "name": "python"
    }
  },
  "cells": [
    {
      "cell_type": "markdown",
      "source": [
        "###Import pandas"
      ],
      "metadata": {
        "id": "LQpGX5b_YSY_"
      }
    },
    {
      "cell_type": "code",
      "execution_count": null,
      "metadata": {
        "id": "FLgExc7qRbzU"
      },
      "outputs": [],
      "source": [
        "import pandas as pd"
      ]
    },
    {
      "cell_type": "markdown",
      "source": [
        "###Read airline passenger data"
      ],
      "metadata": {
        "id": "zTOaZnvfYV_s"
      }
    },
    {
      "cell_type": "code",
      "source": [
        "df = pd.read_csv('/content/airline-passengers.csv')"
      ],
      "metadata": {
        "id": "KUoDihIZRj7G"
      },
      "execution_count": null,
      "outputs": []
    },
    {
      "cell_type": "markdown",
      "source": [
        "###Display the data"
      ],
      "metadata": {
        "id": "FPSAQCd5Yevd"
      }
    },
    {
      "cell_type": "code",
      "source": [
        "df"
      ],
      "metadata": {
        "id": "j1WByPWkRzav"
      },
      "execution_count": null,
      "outputs": []
    },
    {
      "cell_type": "markdown",
      "source": [
        "###Display dataframe info"
      ],
      "metadata": {
        "id": "XdP4cwp-Yi1g"
      }
    },
    {
      "cell_type": "code",
      "source": [
        "df.info()"
      ],
      "metadata": {
        "id": "OuJ5VNG2SeR-"
      },
      "execution_count": null,
      "outputs": []
    },
    {
      "cell_type": "markdown",
      "source": [
        "###Convert the Month column to datetime"
      ],
      "metadata": {
        "id": "M-XNa1a-YvOE"
      }
    },
    {
      "cell_type": "code",
      "source": [
        "df['Month'] = pd.to_datetime(df['Month'])"
      ],
      "metadata": {
        "id": "IyTwxXfbSlgu"
      },
      "execution_count": null,
      "outputs": []
    },
    {
      "cell_type": "markdown",
      "source": [
        "###Check to see if it worked"
      ],
      "metadata": {
        "id": "MWI255aFY3l3"
      }
    },
    {
      "cell_type": "code",
      "source": [
        "df['Month'].dt.year"
      ],
      "metadata": {
        "id": "09VJGN4ATDT4"
      },
      "execution_count": null,
      "outputs": []
    },
    {
      "cell_type": "markdown",
      "source": [
        "###Make the Month column the index"
      ],
      "metadata": {
        "id": "imyLIYdzY6jf"
      }
    },
    {
      "cell_type": "code",
      "source": [
        "df = df.set_index('Month')"
      ],
      "metadata": {
        "id": "ksjfeReITU_n"
      },
      "execution_count": null,
      "outputs": []
    },
    {
      "cell_type": "markdown",
      "source": [
        "###Plot the data"
      ],
      "metadata": {
        "id": "34Us7gAwZAH0"
      }
    },
    {
      "cell_type": "code",
      "source": [
        "df.plot(grid='on')"
      ],
      "metadata": {
        "id": "vXqZ0nikTdzW"
      },
      "execution_count": null,
      "outputs": []
    },
    {
      "cell_type": "markdown",
      "source": [
        "###Plot data from 1959 - 1960"
      ],
      "metadata": {
        "id": "NKs01xeDZEcN"
      }
    },
    {
      "cell_type": "code",
      "source": [
        "from datetime import datetime\n",
        "start_date = datetime(1959, 1, 1)\n",
        "end_date = datetime(1960, 12, 1)\n",
        "df[(start_date <= df.index) & (df.index <= end_date)].plot(grid='on')"
      ],
      "metadata": {
        "id": "bQyd6orZTwp2"
      },
      "execution_count": null,
      "outputs": []
    },
    {
      "cell_type": "markdown",
      "source": [
        "###Perform Time Series Decomposition\n",
        "###Trend + Seasonality + Residual\n",
        "###https://en.wikipedia.org/wiki/Decomposition_of_time_series"
      ],
      "metadata": {
        "id": "RlhlGtYhUyTw"
      }
    },
    {
      "cell_type": "code",
      "source": [
        "import statsmodels.api as sm\n",
        "decomposition = sm.tsa.seasonal_decompose(df, model='additive').plot()"
      ],
      "metadata": {
        "id": "OgGXF1n8TwfH"
      },
      "execution_count": null,
      "outputs": []
    },
    {
      "cell_type": "code",
      "source": [
        "decomposition = sm.tsa.seasonal_decompose(df, model='multiplactive').plot()"
      ],
      "metadata": {
        "id": "1jm-o4AvZv2s"
      },
      "execution_count": null,
      "outputs": []
    },
    {
      "cell_type": "markdown",
      "source": [
        "### Convert the notebook to html and submit the html file in canvas for grading"
      ],
      "metadata": {
        "id": "A3i0EfHMYAY2"
      }
    },
    {
      "cell_type": "code",
      "source": [
        "# !jupyter nbconvert --to html"
      ],
      "metadata": {
        "id": "vUWTw19xYBck"
      },
      "execution_count": null,
      "outputs": []
    }
  ]
}