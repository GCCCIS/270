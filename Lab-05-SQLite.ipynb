{
  "nbformat": 4,
  "nbformat_minor": 0,
  "metadata": {
    "colab": {
      "provenance": []
    },
    "kernelspec": {
      "name": "python3",
      "display_name": "Python 3"
    },
    "language_info": {
      "name": "python"
    }
  },
  "cells": [
    {
      "cell_type": "code",
      "execution_count": null,
      "metadata": {
        "id": "dbuX9g3ZmPn5"
      },
      "outputs": [],
      "source": [
        "import pandas as pd\n",
        "import sqlite3"
      ]
    },
    {
      "cell_type": "markdown",
      "source": [
        "### Chinook Sample Database https://github.com/lerocha/chinook-database\n",
        "### SQLite https://www.sqlite.org/\n",
        "### SQLite Python https://docs.python.org/3/library/sqlite3.html"
      ],
      "metadata": {
        "id": "4ttXrB0qHpa8"
      }
    },
    {
      "cell_type": "markdown",
      "source": [
        "### Connect to the database"
      ],
      "metadata": {
        "id": "Xuby70Mvuuxw"
      }
    },
    {
      "cell_type": "code",
      "source": [
        "con = sqlite3.connect(\"/content/Chinook_Sqlite.sqlite\")"
      ],
      "metadata": {
        "id": "ApTMejSwp4lK"
      },
      "execution_count": null,
      "outputs": []
    },
    {
      "cell_type": "markdown",
      "source": [
        "### List tables"
      ],
      "metadata": {
        "id": "4UWiT-CVu0zZ"
      }
    },
    {
      "cell_type": "code",
      "source": [
        "tables = pd.read_sql(\"SELECT * FROM sqlite_master WHERE type='table';\", con)\n",
        "tables"
      ],
      "metadata": {
        "id": "rKfqUj-zH_fA"
      },
      "execution_count": null,
      "outputs": []
    },
    {
      "cell_type": "markdown",
      "source": [
        "### Read the artist table into a dataframe"
      ],
      "metadata": {
        "id": "t1iO-2U7u5N_"
      }
    },
    {
      "cell_type": "code",
      "source": [
        "df = pd.read_sql_query(\"SELECT * FROM artist\", con)"
      ],
      "metadata": {
        "id": "uBAK8RIprYzj"
      },
      "execution_count": null,
      "outputs": []
    },
    {
      "cell_type": "markdown",
      "source": [
        "### show last rows of artist"
      ],
      "metadata": {
        "id": "2bni8MC-u_Ag"
      }
    },
    {
      "cell_type": "code",
      "source": [
        "df.tail()"
      ],
      "metadata": {
        "id": "1qdinu0zrihi"
      },
      "execution_count": null,
      "outputs": []
    },
    {
      "cell_type": "markdown",
      "source": [
        "### Add a new row to artist"
      ],
      "metadata": {
        "id": "kBc7XGTuvJy4"
      }
    },
    {
      "cell_type": "code",
      "source": [
        "df.loc[275] = ({'ArtistId': 276, 'Name': 'GCC Orchestra'})\n",
        "# df = df.drop(275)\n",
        "df.tail()"
      ],
      "metadata": {
        "id": "x168kCJ6Ip2C"
      },
      "execution_count": null,
      "outputs": []
    },
    {
      "cell_type": "markdown",
      "source": [
        "### Save the artist dataframe back to the database table"
      ],
      "metadata": {
        "id": "EvP2CoBAvNYh"
      }
    },
    {
      "cell_type": "code",
      "source": [
        "df.to_sql(\"Artist\", con, if_exists=\"replace\", index=False)"
      ],
      "metadata": {
        "id": "Jp5BJ8zdNDG6"
      },
      "execution_count": null,
      "outputs": []
    },
    {
      "cell_type": "markdown",
      "source": [
        "### Read the Playlist table into a dataframe"
      ],
      "metadata": {
        "id": "Sm394SRqvgfR"
      }
    },
    {
      "cell_type": "code",
      "source": [
        "playlist = pd.read_sql_query(\"SELECT * FROM Playlist\", con)\n",
        "playlist.head()"
      ],
      "metadata": {
        "id": "EpmxGvvXONe6"
      },
      "execution_count": null,
      "outputs": []
    },
    {
      "cell_type": "markdown",
      "source": [
        "### Read the PlaylistTrack table into a dataframe"
      ],
      "metadata": {
        "id": "NUtJ9UVBvlfv"
      }
    },
    {
      "cell_type": "code",
      "source": [
        "track = pd.read_sql_query(\"SELECT * FROM PlaylistTrack\", con)\n",
        "track.head()"
      ],
      "metadata": {
        "id": "pPL0DzvsOn7B"
      },
      "execution_count": null,
      "outputs": []
    },
    {
      "cell_type": "markdown",
      "source": [
        "### Merge the track and playlist dataframes\n",
        "https://www.w3schools.com/sql/sql_join_left.asp\n",
        "\n",
        "https://pandas.pydata.org/docs/reference/api/pandas.merge.html"
      ],
      "metadata": {
        "id": "mhU7XW1mv0vI"
      }
    },
    {
      "cell_type": "code",
      "source": [
        "pd.merge(track, playlist, on='PlaylistId', how='left')"
      ],
      "metadata": {
        "id": "4MM_H2dlPfOa"
      },
      "execution_count": null,
      "outputs": []
    },
    {
      "cell_type": "markdown",
      "source": [
        "### groupby the merged dataframes and sort"
      ],
      "metadata": {
        "id": "l78sGv4rv9Lg"
      }
    },
    {
      "cell_type": "code",
      "source": [
        "pd.merge(track, playlist, on='PlaylistId', how='left').groupby('Name').count().sort_values(by='TrackId', ascending=False)\n"
      ],
      "metadata": {
        "id": "hDTkpiScVs4v"
      },
      "execution_count": null,
      "outputs": []
    },
    {
      "cell_type": "markdown",
      "source": [
        "### Equivalent SQL join query"
      ],
      "metadata": {
        "id": "YE8hRvgGwHKf"
      }
    },
    {
      "cell_type": "code",
      "source": [
        "sql = '''select p.Name , count(*) as Tracks\n",
        "      from PlaylistTrack as pt\n",
        "      left join playlist as p on p.PlaylistId = pt.PlaylistId\n",
        "      group by p.Name\n",
        "      order by Tracks desc'''\n",
        "top_playlists = pd.read_sql_query(sql, con)\n",
        "top_playlists"
      ],
      "metadata": {
        "id": "AGk_NpL4qGc6"
      },
      "execution_count": null,
      "outputs": []
    },
    {
      "cell_type": "markdown",
      "source": [
        "### Save the results of the query into a new table"
      ],
      "metadata": {
        "id": "NeIg6g0cwMt7"
      }
    },
    {
      "cell_type": "code",
      "source": [
        "top_playlists.to_sql(\"top_playlists\", con, if_exists=\"replace\")\n",
        "tables = pd.read_sql(\"SELECT * FROM sqlite_master WHERE type='table';\", con)\n",
        "tables"
      ],
      "metadata": {
        "id": "YgsfEKSo73lm"
      },
      "execution_count": null,
      "outputs": []
    },
    {
      "cell_type": "markdown",
      "source": [
        "### Drop the newly created table"
      ],
      "metadata": {
        "id": "A9BAu3DDwRix"
      }
    },
    {
      "cell_type": "code",
      "source": [
        "sql = '''drop table top_playlists'''\n",
        "con.execute(sql)"
      ],
      "metadata": {
        "id": "YE-kAFS28ZqN"
      },
      "execution_count": null,
      "outputs": []
    },
    {
      "cell_type": "markdown",
      "source": [
        "### List tables"
      ],
      "metadata": {
        "id": "whwYxeDs0fa2"
      }
    },
    {
      "cell_type": "code",
      "source": [
        "tables = pd.read_sql(\"SELECT * FROM sqlite_master WHERE type='table';\", con)\n",
        "tables"
      ],
      "metadata": {
        "id": "b_oVOTwl8tUm"
      },
      "execution_count": null,
      "outputs": []
    },
    {
      "cell_type": "markdown",
      "source": [
        "### Close the database connection"
      ],
      "metadata": {
        "id": "krrU-1ovwWpY"
      }
    },
    {
      "cell_type": "code",
      "source": [
        "con.close()"
      ],
      "metadata": {
        "id": "haLxt-TIIFgU"
      },
      "execution_count": null,
      "outputs": []
    },
    {
      "cell_type": "markdown",
      "source": [
        "### Convert the notebook to html and submit the html file in canvas for grading"
      ],
      "metadata": {
        "id": "dN3Y-kIgunUE"
      }
    },
    {
      "cell_type": "code",
      "source": [
        "# !jupyter nbconvert --to html"
      ],
      "metadata": {
        "id": "6zhmzIeRun7z"
      },
      "execution_count": null,
      "outputs": []
    }
  ]
}