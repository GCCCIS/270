{
  "nbformat": 4,
  "nbformat_minor": 0,
  "metadata": {
    "colab": {
      "provenance": []
    },
    "kernelspec": {
      "name": "python3",
      "display_name": "Python 3"
    },
    "language_info": {
      "name": "python"
    }
  },
  "cells": [
    {
      "cell_type": "markdown",
      "source": [
        "###Import Pandas"
      ],
      "metadata": {
        "id": "tutDUsMak5Ny"
      }
    },
    {
      "cell_type": "code",
      "execution_count": null,
      "metadata": {
        "id": "XlUnRU1gSYxt"
      },
      "outputs": [],
      "source": [
        "import pandas as pd"
      ]
    },
    {
      "cell_type": "markdown",
      "source": [
        "###Read input file\n",
        "###https://catalog.data.gov/dataset/baby-names-from-social-security-card-applications-national-data\n"
      ],
      "metadata": {
        "id": "hC1I2UYDShwB"
      }
    },
    {
      "cell_type": "code",
      "source": [
        "from zipfile import ZipFile\n",
        "zip_file = ZipFile('/content/names.zip')\n",
        "\n",
        "allnames = []\n",
        "for file in zip_file.infolist():\n",
        "    if file.filename.endswith('.txt'):\n",
        "      year = file.filename.strip('yob').strip('.txt')\n",
        "      print(year)\n",
        "      names = pd.read_csv(zip_file.open(file.filename), names=['Name', 'Sex', 'Count'])\n",
        "      names['Year'] = year\n",
        "      allnames.append(names)\n",
        "df = pd.concat(allnames)\n"
      ],
      "metadata": {
        "id": "Ohqp_HgASgGx"
      },
      "execution_count": null,
      "outputs": []
    },
    {
      "cell_type": "markdown",
      "source": [
        "###Display the first year"
      ],
      "metadata": {
        "id": "4S2DmQIhkyp6"
      }
    },
    {
      "cell_type": "code",
      "source": [
        "allnames[0]"
      ],
      "metadata": {
        "id": "ROYUY4l7Tj8K"
      },
      "execution_count": null,
      "outputs": []
    },
    {
      "cell_type": "markdown",
      "source": [
        "###Display the dataframe"
      ],
      "metadata": {
        "id": "h9NvMAxTksx6"
      }
    },
    {
      "cell_type": "code",
      "source": [
        "df"
      ],
      "metadata": {
        "id": "istcwaQMYlW0"
      },
      "execution_count": null,
      "outputs": []
    },
    {
      "cell_type": "markdown",
      "source": [
        "###Select a name"
      ],
      "metadata": {
        "id": "qcV0B2rXkpq7"
      }
    },
    {
      "cell_type": "code",
      "source": [
        "name = df[df['Name'] == \"Alexa\"]\n",
        "name"
      ],
      "metadata": {
        "id": "r5gLaztrau5h"
      },
      "execution_count": null,
      "outputs": []
    },
    {
      "cell_type": "markdown",
      "source": [
        "###Group by year and count for the name"
      ],
      "metadata": {
        "id": "dwk8gI6-kjj5"
      }
    },
    {
      "cell_type": "code",
      "source": [
        "name.groupby('Year')['Count'].sum()"
      ],
      "metadata": {
        "id": "TZeOQDTOcov4"
      },
      "execution_count": null,
      "outputs": []
    },
    {
      "cell_type": "markdown",
      "source": [
        "###Plot popularity of the name"
      ],
      "metadata": {
        "id": "nB9JdIkwkcRD"
      }
    },
    {
      "cell_type": "code",
      "source": [
        "name.groupby('Year')['Count'].sum().plot()"
      ],
      "metadata": {
        "id": "zRDZYfKYdBu5"
      },
      "execution_count": null,
      "outputs": []
    },
    {
      "cell_type": "markdown",
      "source": [
        "###Group by year and count for all names"
      ],
      "metadata": {
        "id": "gCkb7A5VZrgC"
      }
    },
    {
      "cell_type": "code",
      "source": [
        "df.groupby('Year')['Count'].sum()"
      ],
      "metadata": {
        "id": "IGAmUSYcY3HK"
      },
      "execution_count": null,
      "outputs": []
    },
    {
      "cell_type": "markdown",
      "source": [
        "###Plot totals for each year"
      ],
      "metadata": {
        "id": "ocD-bAlhZziH"
      }
    },
    {
      "cell_type": "code",
      "source": [
        "df.groupby('Year')['Count'].sum().plot()"
      ],
      "metadata": {
        "id": "7pyr0De0Y58C"
      },
      "execution_count": null,
      "outputs": []
    },
    {
      "cell_type": "markdown",
      "source": [
        "### Convert the notebook to html and submit the html file in canvas for grading"
      ],
      "metadata": {
        "id": "V8MEEJqFkXbi"
      }
    },
    {
      "cell_type": "code",
      "source": [
        "# !jupyter nbconvert --to html"
      ],
      "metadata": {
        "id": "-uDLDbD5ivWf"
      },
      "execution_count": null,
      "outputs": []
    }
  ]
}