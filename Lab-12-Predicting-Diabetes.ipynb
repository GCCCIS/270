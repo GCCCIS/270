{
  "nbformat": 4,
  "nbformat_minor": 0,
  "metadata": {
    "colab": {
      "provenance": []
    },
    "kernelspec": {
      "name": "python3",
      "display_name": "Python 3"
    },
    "language_info": {
      "name": "python"
    }
  },
  "cells": [
    {
      "cell_type": "markdown",
      "source": [
        "###Import Pandas"
      ],
      "metadata": {
        "id": "aS8crGWXet5P"
      }
    },
    {
      "cell_type": "code",
      "execution_count": null,
      "metadata": {
        "id": "iNu5RmGjXnPJ"
      },
      "outputs": [],
      "source": [
        "import pandas as pd"
      ]
    },
    {
      "cell_type": "markdown",
      "source": [
        "###Read data file"
      ],
      "metadata": {
        "id": "ouSb4ROWerQ2"
      }
    },
    {
      "cell_type": "code",
      "source": [
        "df = pd.read_csv(\"/content/diabetes.csv\")"
      ],
      "metadata": {
        "id": "SqXscYl6Y6oe"
      },
      "execution_count": null,
      "outputs": []
    },
    {
      "cell_type": "markdown",
      "source": [
        "###Display dataframe"
      ],
      "metadata": {
        "id": "4M84iq_vel5W"
      }
    },
    {
      "cell_type": "code",
      "source": [
        "df.head()"
      ],
      "metadata": {
        "id": "optKe0hOZEf-"
      },
      "execution_count": null,
      "outputs": []
    },
    {
      "cell_type": "markdown",
      "source": [
        "###Plot correlations"
      ],
      "metadata": {
        "id": "e_6OvOiCecGx"
      }
    },
    {
      "cell_type": "code",
      "source": [
        "import seaborn as sns\n",
        "import matplotlib.pyplot as plt\n",
        "plt.rcParams['figure.figsize']=(12,12)\n",
        "sns.heatmap(df.corr(),annot= True)\n"
      ],
      "metadata": {
        "id": "ym2Uy67nZRQm"
      },
      "execution_count": null,
      "outputs": []
    },
    {
      "cell_type": "markdown",
      "source": [
        "###Plot BMI"
      ],
      "metadata": {
        "id": "VTh2qa2ieXdG"
      }
    },
    {
      "cell_type": "code",
      "source": [
        "sns.displot(df.BMI)"
      ],
      "metadata": {
        "id": "X-PPA5UdZlse"
      },
      "execution_count": null,
      "outputs": []
    },
    {
      "cell_type": "markdown",
      "source": [
        "###Plot age"
      ],
      "metadata": {
        "id": "Ms4ilf-deTvQ"
      }
    },
    {
      "cell_type": "code",
      "source": [
        "sns.displot(df.Age)"
      ],
      "metadata": {
        "id": "wcOmw8nTe7Om"
      },
      "execution_count": null,
      "outputs": []
    },
    {
      "cell_type": "markdown",
      "source": [
        "###Prepare x and y values"
      ],
      "metadata": {
        "id": "jQdYknO6ePsO"
      }
    },
    {
      "cell_type": "code",
      "source": [
        "x = df.drop(\"Outcome\", axis=1)\n",
        "y = df.Outcome"
      ],
      "metadata": {
        "id": "9yRGC55EaKH4"
      },
      "execution_count": null,
      "outputs": []
    },
    {
      "cell_type": "markdown",
      "source": [
        "###Split the data"
      ],
      "metadata": {
        "id": "XNTTR3K7eM3u"
      }
    },
    {
      "cell_type": "code",
      "source": [
        "from sklearn.model_selection import train_test_split\n",
        "x_train, x_test, y_train, y_test = train_test_split(x, y, test_size = 0.2)"
      ],
      "metadata": {
        "id": "_GvSGNW9abve"
      },
      "execution_count": null,
      "outputs": []
    },
    {
      "cell_type": "markdown",
      "source": [
        "###Function to print model performance data"
      ],
      "metadata": {
        "id": "JVUE6Iu5eIw5"
      }
    },
    {
      "cell_type": "code",
      "source": [
        "from sklearn.metrics import confusion_matrix\n",
        "from sklearn.metrics import accuracy_score, recall_score, f1_score\n",
        "def performance(model):\n",
        "    print(\"Evaluating Model:\", model)\n",
        "    model.fit(x_train, y_train)\n",
        "    prediction = model.predict(x_test)\n",
        "    accuracy = accuracy_score(prediction, y_test)\n",
        "    print(\"Accuracy Score:\", accuracy)\n",
        "    recall = recall_score(prediction, y_test)\n",
        "    print(\"Recall Score:\", recall)\n",
        "    f1 = f1_score(prediction, y_test)\n",
        "    print(\"F1 Score:\", f1)"
      ],
      "metadata": {
        "id": "e6V4dtwcalJl"
      },
      "execution_count": null,
      "outputs": []
    },
    {
      "cell_type": "markdown",
      "source": [
        "###Logistic Regression"
      ],
      "metadata": {
        "id": "B57lhtZ5eECB"
      }
    },
    {
      "cell_type": "code",
      "source": [
        "from sklearn.linear_model import LogisticRegression\n",
        "logistic = LogisticRegression(max_iter=10000)\n",
        "performance(logistic)"
      ],
      "metadata": {
        "id": "EeGRf5ssbbJe"
      },
      "execution_count": null,
      "outputs": []
    },
    {
      "cell_type": "markdown",
      "source": [
        "###Support Vector"
      ],
      "metadata": {
        "id": "XH5ls9fYd82o"
      }
    },
    {
      "cell_type": "code",
      "source": [
        "from sklearn.svm import SVC\n",
        "svm = SVC(kernel='linear')\n",
        "performance(svm)"
      ],
      "metadata": {
        "id": "Hu8IiaaGcDEG"
      },
      "execution_count": null,
      "outputs": []
    },
    {
      "cell_type": "markdown",
      "source": [
        "###KNN"
      ],
      "metadata": {
        "id": "y5hMEDrMd5Dm"
      }
    },
    {
      "cell_type": "code",
      "source": [
        "from sklearn.neighbors import KNeighborsClassifier\n",
        "knn = KNeighborsClassifier(n_neighbors=5)\n",
        "performance(knn)"
      ],
      "metadata": {
        "id": "86WTm330crYO"
      },
      "execution_count": null,
      "outputs": []
    },
    {
      "cell_type": "markdown",
      "source": [
        "###Random Forest"
      ],
      "metadata": {
        "id": "FlmZD1Pud08d"
      }
    },
    {
      "cell_type": "code",
      "source": [
        "from sklearn.ensemble import RandomForestClassifier\n",
        "random_forset = RandomForestClassifier()\n",
        "performance(random_forset)"
      ],
      "metadata": {
        "id": "gJBzoTKNc8Rm"
      },
      "execution_count": null,
      "outputs": []
    },
    {
      "cell_type": "markdown",
      "source": [
        "###Gradient Boosting"
      ],
      "metadata": {
        "id": "-Mz1fyxwdyHu"
      }
    },
    {
      "cell_type": "code",
      "source": [
        "from sklearn.ensemble import GradientBoostingClassifier\n",
        "gradient_boost = GradientBoostingClassifier()\n",
        "performance(gradient_boost)"
      ],
      "metadata": {
        "id": "-uCu5s-tdWPO"
      },
      "execution_count": null,
      "outputs": []
    },
    {
      "cell_type": "markdown",
      "source": [
        "###Convert the notebook to html and submit the html file in canvas for grading"
      ],
      "metadata": {
        "id": "NgqYVH7ofWKN"
      }
    },
    {
      "cell_type": "code",
      "source": [
        "# !jupyter nbconvert --to html"
      ],
      "metadata": {
        "id": "udeBcq4AfXo1"
      },
      "execution_count": null,
      "outputs": []
    }
  ]
}