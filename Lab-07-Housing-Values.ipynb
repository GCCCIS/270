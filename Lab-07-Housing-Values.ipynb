{
  "cells": [
    {
      "cell_type": "markdown",
      "source": [
        "### Import pandas"
      ],
      "metadata": {
        "id": "jT0lOLyROLMu"
      }
    },
    {
      "cell_type": "code",
      "execution_count": null,
      "metadata": {
        "id": "Im0lD7Jg3Vnf"
      },
      "outputs": [],
      "source": [
        "import pandas as pd"
      ]
    },
    {
      "cell_type": "markdown",
      "source": [
        "### Read California housing prices sample data"
      ],
      "metadata": {
        "id": "iMIbZ0AMORmt"
      }
    },
    {
      "cell_type": "code",
      "execution_count": null,
      "metadata": {
        "id": "1zgFPiLQ3d2l"
      },
      "outputs": [],
      "source": [
        "df = pd.read_csv('/content/sample_data/california_housing_train.csv')"
      ]
    },
    {
      "cell_type": "markdown",
      "source": [
        "### Display sample data"
      ],
      "metadata": {
        "id": "eOUmiaypOcwl"
      }
    },
    {
      "cell_type": "code",
      "execution_count": null,
      "metadata": {
        "id": "Ik_vQvWk3oqP"
      },
      "outputs": [],
      "source": [
        "df.head()"
      ]
    },
    {
      "cell_type": "markdown",
      "source": [
        "### Plot sample data"
      ],
      "metadata": {
        "id": "wKdjblGsOpUN"
      }
    },
    {
      "cell_type": "code",
      "execution_count": null,
      "metadata": {
        "id": "oHgOGQZby0Eu"
      },
      "outputs": [],
      "source": [
        "df.plot(kind=\"scatter\", x=\"longitude\", y=\"latitude\", alpha=0.1, s=df[\"population\"]/100, label=\"population\", c=\"median_house_value\")"
      ]
    },
    {
      "cell_type": "markdown",
      "source": [
        "### Display correlations in the sample data"
      ],
      "metadata": {
        "id": "XAYQFrXiOsqt"
      }
    },
    {
      "cell_type": "code",
      "execution_count": null,
      "metadata": {
        "id": "-45CTC8s0YWV"
      },
      "outputs": [],
      "source": [
        "df.corr()"
      ]
    },
    {
      "cell_type": "markdown",
      "source": [
        "### Display correlations for house values"
      ],
      "metadata": {
        "id": "d3DKDKsfO6VU"
      }
    },
    {
      "cell_type": "code",
      "execution_count": null,
      "metadata": {
        "id": "fQQljKXh1LlV"
      },
      "outputs": [],
      "source": [
        "df.corr()[\"median_house_value\"].sort_values(ascending=False)"
      ]
    },
    {
      "cell_type": "markdown",
      "source": [
        "### Scatter plot income and house values"
      ],
      "metadata": {
        "id": "Ki8eaUyDPHEd"
      }
    },
    {
      "cell_type": "code",
      "execution_count": null,
      "metadata": {
        "id": "B3LG3ijA49n8"
      },
      "outputs": [],
      "source": [
        "df.plot(kind='scatter', x='median_income', y='median_house_value')"
      ]
    },
    {
      "cell_type": "markdown",
      "source": [
        "### Prepare x and y values for linear regression"
      ],
      "metadata": {
        "id": "ZKe9kdhLPPr9"
      }
    },
    {
      "cell_type": "code",
      "execution_count": null,
      "metadata": {
        "id": "_0eCQuGf5AqV"
      },
      "outputs": [],
      "source": [
        "x = df.drop(['median_house_value'], axis = 1)\n",
        "y = df['median_house_value']"
      ]
    },
    {
      "cell_type": "markdown",
      "source": [
        "### Display x"
      ],
      "metadata": {
        "id": "kSmT-r0APdil"
      }
    },
    {
      "cell_type": "code",
      "execution_count": null,
      "metadata": {
        "id": "hT0tAVZs5EQd"
      },
      "outputs": [],
      "source": [
        "x.head()"
      ]
    },
    {
      "cell_type": "markdown",
      "source": [
        "### Display y"
      ],
      "metadata": {
        "id": "0ZmyCWjbPgY_"
      }
    },
    {
      "cell_type": "code",
      "execution_count": null,
      "metadata": {
        "id": "fLW8bENo-n91"
      },
      "outputs": [],
      "source": [
        "y.head()"
      ]
    },
    {
      "cell_type": "markdown",
      "source": [
        "### Split train and test data"
      ],
      "metadata": {
        "id": "O1eTOGyhPjTl"
      }
    },
    {
      "cell_type": "code",
      "execution_count": null,
      "metadata": {
        "id": "zy0ss1-J-8rF"
      },
      "outputs": [],
      "source": [
        "from sklearn.model_selection import train_test_split\n",
        "x_train, x_test, y_train, y_test = train_test_split(x, y, test_size = 0.2)"
      ]
    },
    {
      "cell_type": "markdown",
      "source": [
        "### Run linear regression"
      ],
      "metadata": {
        "id": "frqLzW9fPum8"
      }
    },
    {
      "cell_type": "code",
      "execution_count": null,
      "metadata": {
        "id": "ySM4oBno_Yc-"
      },
      "outputs": [],
      "source": [
        "from sklearn.linear_model import LinearRegression\n",
        "reg = LinearRegression()\n",
        "reg.fit(x_train, y_train)\n"
      ]
    },
    {
      "cell_type": "markdown",
      "source": [
        "### Show predicted and actual and error values"
      ],
      "metadata": {
        "id": "2vqD9uUoP0iM"
      }
    },
    {
      "cell_type": "code",
      "source": [
        "y_predicted = reg.predict(x_test)\n",
        "predictions = pd.DataFrame({'Predictions': y_predicted, 'Actual Values': y_test})\n",
        "predictions['error'] = (predictions['Actual Values'] - predictions['Predictions']) / predictions['Actual Values']\n",
        "# predictions = predictions.sort_values(by=['error'])\n",
        "# predictions.reset_index(inplace=True)\n",
        "predictions.head()"
      ],
      "metadata": {
        "id": "GuTdTBJwA0Dh"
      },
      "execution_count": null,
      "outputs": []
    },
    {
      "cell_type": "markdown",
      "source": [
        "### Convert the notebook to html and submit the html file in canvas for grading"
      ],
      "metadata": {
        "id": "O0c1Rn_8QH-F"
      }
    },
    {
      "cell_type": "code",
      "source": [
        "# !jupyter nbconvert --to html"
      ],
      "metadata": {
        "id": "lguvr5pLFZVw"
      },
      "execution_count": null,
      "outputs": []
    }
  ],
  "metadata": {
    "colab": {
      "provenance": []
    },
    "kernelspec": {
      "display_name": "Python 3",
      "name": "python3"
    },
    "language_info": {
      "name": "python"
    }
  },
  "nbformat": 4,
  "nbformat_minor": 0
}