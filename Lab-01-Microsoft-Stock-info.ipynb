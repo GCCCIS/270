{
  "cells": [
    {
      "cell_type": "markdown",
      "metadata": {
        "id": "T9c4rEkXP1TR"
      },
      "source": [
        "### Import yfinance module"
      ]
    },
    {
      "cell_type": "code",
      "execution_count": null,
      "metadata": {
        "id": "CX0LpZ42QAzn"
      },
      "outputs": [],
      "source": [
        "import yfinance as yf"
      ]
    },
    {
      "cell_type": "markdown",
      "metadata": {
        "id": "tJg_kPncQE94"
      },
      "source": [
        "### Get MSFT daily stock price info for one year"
      ]
    },
    {
      "cell_type": "code",
      "execution_count": null,
      "metadata": {
        "id": "cVP3ssXv7AnY"
      },
      "outputs": [],
      "source": [
        "df = yf.download(\"MSFT\", period=\"1y\")"
      ]
    },
    {
      "cell_type": "markdown",
      "metadata": {
        "id": "4GShTl4TQoYv"
      },
      "source": [
        "### Show the first few lines of the dataframe"
      ]
    },
    {
      "cell_type": "code",
      "execution_count": null,
      "metadata": {
        "id": "pmGO0oFGQkE3"
      },
      "outputs": [],
      "source": [
        "df.head()"
      ]
    },
    {
      "cell_type": "markdown",
      "metadata": {
        "id": "jJF9Mq-lQ0in"
      },
      "source": [
        "### Plot the stock price line chart"
      ]
    },
    {
      "cell_type": "code",
      "execution_count": null,
      "metadata": {
        "id": "SugBOP5RQ1Vh"
      },
      "outputs": [],
      "source": [
        "df['Close'].plot()"
      ]
    },
    {
      "cell_type": "markdown",
      "metadata": {
        "id": "ZW4X9jw8RGK5"
      },
      "source": [
        "### What kind of a variable is the \"df\" variable?"
      ]
    },
    {
      "cell_type": "code",
      "execution_count": null,
      "metadata": {
        "id": "kKo9qLSu9Jar"
      },
      "outputs": [],
      "source": [
        "type(df)"
      ]
    },
    {
      "cell_type": "markdown",
      "metadata": {
        "id": "EppoyPeERQcK"
      },
      "source": [
        "### Get stock ticker information for MSFT"
      ]
    },
    {
      "cell_type": "code",
      "execution_count": null,
      "metadata": {
        "id": "vduNOKCuRaBp"
      },
      "outputs": [],
      "source": [
        "msft = yf.Ticker(\"MSFT\")"
      ]
    },
    {
      "cell_type": "markdown",
      "metadata": {
        "id": "OxBfbxjeRfXY"
      },
      "source": [
        "### Display the stock ticker information"
      ]
    },
    {
      "cell_type": "code",
      "execution_count": null,
      "metadata": {
        "id": "LQ32vc2V9Oui"
      },
      "outputs": [],
      "source": [
        "msft.info"
      ]
    },
    {
      "cell_type": "markdown",
      "metadata": {
        "id": "PFo6BWmNRoZx"
      },
      "source": [
        "### Display the balance sheet for MSFT"
      ]
    },
    {
      "cell_type": "code",
      "execution_count": null,
      "metadata": {
        "id": "WSqHZP2V9XAi"
      },
      "outputs": [],
      "source": [
        "msft.balance_sheet"
      ]
    },
    {
      "cell_type": "markdown",
      "metadata": {
        "id": "xu6v1DFaTkDZ"
      },
      "source": [
        "### Display the phone number for MSFT"
      ]
    },
    {
      "cell_type": "code",
      "execution_count": null,
      "metadata": {
        "id": "rp-ksxvaTq2X"
      },
      "outputs": [],
      "source": [
        "msft.info['phone']"
      ]
    },
    {
      "cell_type": "markdown",
      "metadata": {
        "id": "fSAjeMcqVhIo"
      },
      "source": [
        "### Display the zip code of MSFT"
      ]
    },
    {
      "cell_type": "code",
      "execution_count": null,
      "metadata": {
        "id": "iueA9Yk4VppS"
      },
      "outputs": [],
      "source": [
        "msft.info['zip']"
      ]
    },
    {
      "cell_type": "markdown",
      "metadata": {
        "id": "7f2qpy_YRv9I"
      },
      "source": [
        "### What kind of a variable is msft.balance_Sheet?"
      ]
    },
    {
      "cell_type": "code",
      "execution_count": null,
      "metadata": {
        "id": "FGfG-tN29eor"
      },
      "outputs": [],
      "source": [
        "type(msft.balance_sheet)"
      ]
    },
    {
      "cell_type": "markdown",
      "metadata": {
        "id": "szQ_T0G35WDR"
      },
      "source": [
        "### Convert the notebook to html and submit the html file in canvas for grading"
      ]
    },
    {
      "cell_type": "code",
      "execution_count": null,
      "metadata": {
        "id": "heWXpSaA5WDR"
      },
      "outputs": [],
      "source": [
        "# !jupyter nbconvert --to html"
      ]
    }
  ],
  "metadata": {
    "colab": {
      "provenance": []
    },
    "kernelspec": {
      "display_name": "Python 3 (ipykernel)",
      "language": "python",
      "name": "python3"
    },
    "language_info": {
      "codemirror_mode": {
        "name": "ipython",
        "version": 3
      },
      "file_extension": ".py",
      "mimetype": "text/x-python",
      "name": "python",
      "nbconvert_exporter": "python",
      "pygments_lexer": "ipython3",
      "version": "3.11.7"
    }
  },
  "nbformat": 4,
  "nbformat_minor": 0
}