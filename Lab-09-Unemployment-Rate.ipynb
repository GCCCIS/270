{
  "nbformat": 4,
  "nbformat_minor": 0,
  "metadata": {
    "colab": {
      "provenance": []
    },
    "kernelspec": {
      "name": "python3",
      "display_name": "Python 3"
    },
    "language_info": {
      "name": "python"
    }
  },
  "cells": [
    {
      "cell_type": "markdown",
      "source": [
        "### Install FRED API"
      ],
      "metadata": {
        "id": "zlq13v9WRnPS"
      }
    },
    {
      "cell_type": "code",
      "source": [
        "!pip install fredapi > /dev/null"
      ],
      "metadata": {
        "id": "s3WSyvjp5eB9"
      },
      "execution_count": null,
      "outputs": []
    },
    {
      "cell_type": "markdown",
      "source": [
        "### Import Pandas and FRED API"
      ],
      "metadata": {
        "id": "8AGoDZvFRsOa"
      }
    },
    {
      "cell_type": "code",
      "execution_count": null,
      "metadata": {
        "id": "s_yP7o4E5BMQ"
      },
      "outputs": [],
      "source": [
        "import pandas as pd\n",
        "from fredapi import Fred\n",
        "fred = Fred(api_key='')\n"
      ]
    },
    {
      "cell_type": "markdown",
      "source": [
        "### Search for unemployment data on FRED\n",
        "###https://fred.stlouisfed.org/"
      ],
      "metadata": {
        "id": "tlIdbsfsR1AK"
      }
    },
    {
      "cell_type": "code",
      "source": [
        "df = fred.search('unemployment', order_by='popularity')\n",
        "df.head()"
      ],
      "metadata": {
        "id": "0afZqghP5kOt"
      },
      "execution_count": null,
      "outputs": []
    },
    {
      "cell_type": "markdown",
      "source": [
        "### Unemployment rate data"
      ],
      "metadata": {
        "id": "_39O6D_vSCap"
      }
    },
    {
      "cell_type": "code",
      "source": [
        "fred.get_series('UNRATE')"
      ],
      "metadata": {
        "id": "cAtkntqII8oy"
      },
      "execution_count": null,
      "outputs": []
    },
    {
      "cell_type": "markdown",
      "source": [
        "### CA unemployment rate\n",
        "### https://fred.stlouisfed.org/release/tables?rid=112&eid=1195039"
      ],
      "metadata": {
        "id": "FC2Vj7nIRJEA"
      }
    },
    {
      "cell_type": "code",
      "source": [
        "fred.get_series('CAUR')"
      ],
      "metadata": {
        "id": "nOOz4J2hJWlT"
      },
      "execution_count": null,
      "outputs": []
    },
    {
      "cell_type": "markdown",
      "source": [
        "### Prepare a list of states"
      ],
      "metadata": {
        "id": "mAygsQMISjUJ"
      }
    },
    {
      "cell_type": "code",
      "source": [
        "states = pd.DataFrame([\n",
        "    # https://en.wikipedia.org/wiki/List_of_states_and_territories_of_the_United_States#States.\n",
        "    \"AK\", \"AL\", \"AR\", \"AZ\", \"CA\", \"CO\", \"CT\", \"DE\", \"FL\", \"GA\", \"HI\", \"IA\",\n",
        "    \"ID\", \"IL\", \"IN\", \"KS\", \"KY\", \"LA\", \"MA\", \"MD\", \"ME\", \"MI\", \"MN\", \"MO\",\n",
        "    \"MS\", \"MT\", \"NC\", \"ND\", \"NE\", \"NH\", \"NJ\", \"NM\", \"NV\", \"NY\", \"OH\", \"OK\",\n",
        "    \"OR\", \"PA\", \"RI\", \"SC\", \"SD\", \"TN\", \"TX\", \"UT\", \"VA\", \"VT\", \"WA\", \"WI\",\n",
        "    \"WV\", \"WY\"], columns = ['state'])"
      ],
      "metadata": {
        "id": "WVjTSr6SQk5L"
      },
      "execution_count": null,
      "outputs": []
    },
    {
      "cell_type": "markdown",
      "source": [
        "###Display the list"
      ],
      "metadata": {
        "id": "oWxnq8vxSpNc"
      }
    },
    {
      "cell_type": "code",
      "source": [
        "states.head()"
      ],
      "metadata": {
        "id": "NfBdSBjhPZaq"
      },
      "execution_count": null,
      "outputs": []
    },
    {
      "cell_type": "markdown",
      "source": [
        "###Format the list as needed for lookup"
      ],
      "metadata": {
        "id": "8eujKytbSvqa"
      }
    },
    {
      "cell_type": "code",
      "source": [
        "states['state'] = states['state'].astype(str) + 'UR'"
      ],
      "metadata": {
        "id": "qhZRTub7DOC_"
      },
      "execution_count": null,
      "outputs": []
    },
    {
      "cell_type": "markdown",
      "source": [
        "###Display the list"
      ],
      "metadata": {
        "id": "iCxvawKSS145"
      }
    },
    {
      "cell_type": "code",
      "source": [
        "states.head()"
      ],
      "metadata": {
        "id": "58ptwr_QJlxb"
      },
      "execution_count": null,
      "outputs": []
    },
    {
      "cell_type": "markdown",
      "source": [
        "###Lookup unemployment rate for each state"
      ],
      "metadata": {
        "id": "ORyMHusNTFL6"
      }
    },
    {
      "cell_type": "code",
      "source": [
        "results = []\n",
        "for index, row in states.iterrows():\n",
        "  print(row['state'])\n",
        "  result = fred.get_series(row['state']).to_frame(name=row[\"state\"])\n",
        "  results.append(result)"
      ],
      "metadata": {
        "id": "SLzJ4GDxLymU"
      },
      "execution_count": null,
      "outputs": []
    },
    {
      "cell_type": "markdown",
      "source": [
        "###Display the first result"
      ],
      "metadata": {
        "id": "AbP2aKC1Tm-q"
      }
    },
    {
      "cell_type": "code",
      "source": [
        "results[0]"
      ],
      "metadata": {
        "id": "94CJxTy1M_8D"
      },
      "execution_count": null,
      "outputs": []
    },
    {
      "cell_type": "markdown",
      "source": [
        "###Combine all the results"
      ],
      "metadata": {
        "id": "01th1e4mTvYJ"
      }
    },
    {
      "cell_type": "code",
      "source": [
        "df = pd.concat(results, axis=1)"
      ],
      "metadata": {
        "id": "JPywj7NhQGqJ"
      },
      "execution_count": null,
      "outputs": []
    },
    {
      "cell_type": "markdown",
      "source": [
        "###Display the final result"
      ],
      "metadata": {
        "id": "IZO2XJxbTzng"
      }
    },
    {
      "cell_type": "code",
      "source": [
        "df.head()"
      ],
      "metadata": {
        "id": "igyG95KEeclN"
      },
      "execution_count": null,
      "outputs": []
    },
    {
      "cell_type": "markdown",
      "source": [
        "###Plot the data"
      ],
      "metadata": {
        "id": "my9j5MF6T5dk"
      }
    },
    {
      "cell_type": "code",
      "source": [
        "df.plot(figsize=(16,14), title='Unemployment Rate by State', lw=3, fontsize=16, grid=True).legend(loc='lower left')"
      ],
      "metadata": {
        "id": "5Kp_rm0dWqc_"
      },
      "execution_count": null,
      "outputs": []
    },
    {
      "cell_type": "markdown",
      "source": [
        "###What happened in March of 2020?"
      ],
      "metadata": {
        "id": "9wNEborJUMKq"
      }
    },
    {
      "cell_type": "code",
      "source": [
        "df.loc[df.index == '2020-03-01']"
      ],
      "metadata": {
        "id": "cehwlZ9NV_B5"
      },
      "execution_count": null,
      "outputs": []
    },
    {
      "cell_type": "markdown",
      "source": [
        "###Which states had the highest unemployment rate in March of 2020?"
      ],
      "metadata": {
        "id": "tYSm0zQTUVJ5"
      }
    },
    {
      "cell_type": "code",
      "source": [
        "df.loc[df.index == '2020-03-01'].T.sort_values('2020-03-01').plot(kind='barh', figsize=(12,8))"
      ],
      "metadata": {
        "id": "nIbJSApWZAqi"
      },
      "execution_count": null,
      "outputs": []
    },
    {
      "cell_type": "markdown",
      "source": [
        "### Convert the notebook to html and submit the html file in canvas for grading"
      ],
      "metadata": {
        "id": "CAqAJtTIZKoO"
      }
    },
    {
      "cell_type": "code",
      "source": [
        "# !jupyter nbconvert --to html"
      ],
      "metadata": {
        "id": "LTVgkTi3ZLuk"
      },
      "execution_count": null,
      "outputs": []
    }
  ]
}