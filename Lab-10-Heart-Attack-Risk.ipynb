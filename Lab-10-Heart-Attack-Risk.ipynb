{
  "nbformat": 4,
  "nbformat_minor": 0,
  "metadata": {
    "colab": {
      "provenance": []
    },
    "kernelspec": {
      "name": "python3",
      "display_name": "Python 3"
    },
    "language_info": {
      "name": "python"
    }
  },
  "cells": [
    {
      "cell_type": "markdown",
      "source": [
        "###Import pandas"
      ],
      "metadata": {
        "id": "xXx3u3cQxVeF"
      }
    },
    {
      "cell_type": "code",
      "execution_count": null,
      "metadata": {
        "id": "Iy7mvgVfmuW5"
      },
      "outputs": [],
      "source": [
        "import pandas as pd"
      ]
    },
    {
      "cell_type": "markdown",
      "source": [
        "###Read heart disease data file\n",
        "###Columns are:\n",
        "1) age\n",
        "2) sex\n",
        "3) chest pain type (4 values)\n",
        "4) resting blood pressure\n",
        "5) serum cholestoral in mg/dl\n",
        "6)fasting blood sugar > 120 mg/dl\n",
        "7) resting electrocardiographic results (values 0,1,2)\n",
        "8) maximum heart rate achieved\n",
        "9) exercise induced angina\n",
        "10) oldpeak = ST depression induced by exercise relative to rest\n",
        "11)the slope of the peak exercise ST segment\n",
        "12) number of major vessels (0-3) colored by flourosopy\n",
        "13) thal: 0 = normal; 1 = fixed defect; 2 = reversable defect\n",
        "14) target: 0= less chance of heart attack 1= more chance of heart attack"
      ],
      "metadata": {
        "id": "Q6xvoAz7pxjN"
      }
    },
    {
      "cell_type": "code",
      "source": [
        "df = pd.read_csv('/content/heart.csv')\n",
        "df.head()"
      ],
      "metadata": {
        "id": "21SaydR5pIKP"
      },
      "execution_count": null,
      "outputs": []
    },
    {
      "cell_type": "markdown",
      "source": [
        "###Unique values of each column"
      ],
      "metadata": {
        "id": "DxLm1GVtxpKs"
      }
    },
    {
      "cell_type": "code",
      "source": [
        "df.nunique()"
      ],
      "metadata": {
        "id": "NjUZjoMCpVvI"
      },
      "execution_count": null,
      "outputs": []
    },
    {
      "cell_type": "markdown",
      "source": [
        "###Male vs female count"
      ],
      "metadata": {
        "id": "igvZehpDxu2n"
      }
    },
    {
      "cell_type": "code",
      "source": [
        "df.sex.value_counts()"
      ],
      "metadata": {
        "id": "1SLoNKzzqb1_"
      },
      "execution_count": null,
      "outputs": []
    },
    {
      "cell_type": "markdown",
      "source": [
        "###Display correlations"
      ],
      "metadata": {
        "id": "tRLpepDGxzud"
      }
    },
    {
      "cell_type": "code",
      "source": [
        "df.corr()"
      ],
      "metadata": {
        "id": "-W3sCJDDqp42"
      },
      "execution_count": null,
      "outputs": []
    },
    {
      "cell_type": "markdown",
      "source": [
        "###Plot correlations heatmap"
      ],
      "metadata": {
        "id": "zPSixt8Ux8SN"
      }
    },
    {
      "cell_type": "code",
      "source": [
        "import seaborn as sns\n",
        "import matplotlib.pyplot as plt\n",
        "plt.rcParams['figure.figsize']=(12,12)\n",
        "sns.heatmap(df.corr(),annot= True)"
      ],
      "metadata": {
        "id": "k5O56GIiqsQW"
      },
      "execution_count": null,
      "outputs": []
    },
    {
      "cell_type": "markdown",
      "source": [
        "###Prepare x and y values for logistic regression"
      ],
      "metadata": {
        "id": "fs1uqx45yozW"
      }
    },
    {
      "cell_type": "code",
      "source": [
        "x = df.drop(\"target\", axis=1)\n",
        "y = df.target"
      ],
      "metadata": {
        "id": "QmJZf8jGtEC1"
      },
      "execution_count": null,
      "outputs": []
    },
    {
      "cell_type": "markdown",
      "source": [
        "###Display x"
      ],
      "metadata": {
        "id": "HGkZ2IEN4s5P"
      }
    },
    {
      "cell_type": "code",
      "source": [
        "x.head()"
      ],
      "metadata": {
        "id": "CowkjT593o0r"
      },
      "execution_count": null,
      "outputs": []
    },
    {
      "cell_type": "markdown",
      "source": [
        "###Display y"
      ],
      "metadata": {
        "id": "4LF9kpu14vC1"
      }
    },
    {
      "cell_type": "code",
      "source": [
        "y.head()"
      ],
      "metadata": {
        "id": "OZQGJNrm3szT"
      },
      "execution_count": null,
      "outputs": []
    },
    {
      "cell_type": "markdown",
      "source": [
        "###Split test and train data"
      ],
      "metadata": {
        "id": "2gsayU1B4VSq"
      }
    },
    {
      "cell_type": "code",
      "source": [
        "from sklearn.model_selection import train_test_split\n",
        "x_train, x_test, y_train, y_test = train_test_split(x, y, test_size = 0.2)"
      ],
      "metadata": {
        "id": "OrFMkqGJ3yWb"
      },
      "execution_count": null,
      "outputs": []
    },
    {
      "cell_type": "markdown",
      "source": [
        "###Run logistic regression"
      ],
      "metadata": {
        "id": "uuJpR2yBy0T2"
      }
    },
    {
      "cell_type": "code",
      "source": [
        "from sklearn.linear_model import LogisticRegression\n",
        "model = LogisticRegression(max_iter=10000)\n",
        "model.fit(x_train,y_train)"
      ],
      "metadata": {
        "id": "JsEkQj95thD-"
      },
      "execution_count": null,
      "outputs": []
    },
    {
      "cell_type": "markdown",
      "source": [
        "###Run predictions"
      ],
      "metadata": {
        "id": "leO4gEhyy4G2"
      }
    },
    {
      "cell_type": "code",
      "source": [
        "y_pred= model.predict(x_test)\n",
        "y_predicted = model.predict(x_test)\n",
        "predictions = pd.DataFrame({'Predictions': y_predicted, 'Actual Values': y_test})\n",
        "predictions['Accurate'] = (predictions['Actual Values'] == predictions['Predictions'])\n",
        "predictions.head()"
      ],
      "metadata": {
        "id": "lbHW4FlNzYSS"
      },
      "execution_count": null,
      "outputs": []
    },
    {
      "cell_type": "markdown",
      "source": [
        "###Display intercept and coefficient"
      ],
      "metadata": {
        "id": "BgM1w0uYzDHF"
      }
    },
    {
      "cell_type": "code",
      "source": [
        "print(f\"Intercept is {model.intercept_}\")\n",
        "print(f\"Coefficients are {model.coef_}\")"
      ],
      "metadata": {
        "id": "V95dO-KEwt-3"
      },
      "execution_count": null,
      "outputs": []
    },
    {
      "cell_type": "markdown",
      "source": [
        "###Display accuracy"
      ],
      "metadata": {
        "id": "ytACpA_uzHdG"
      }
    },
    {
      "cell_type": "code",
      "source": [
        "from sklearn.metrics import accuracy_score\n",
        "accuracy= accuracy_score(y_test,y_pred)\n",
        "print (\"Logistic testing accuracy is \", round(accuracy,2) * 100, \"%\")"
      ],
      "metadata": {
        "id": "jk7Tf061v7ut"
      },
      "execution_count": null,
      "outputs": []
    },
    {
      "cell_type": "markdown",
      "source": [
        "### Convert the notebook to html and submit the html file in canvas for grading"
      ],
      "metadata": {
        "id": "a9k1IjKQwj9t"
      }
    },
    {
      "cell_type": "code",
      "source": [
        "# !jupyter nbconvert --to html"
      ],
      "metadata": {
        "id": "rTgztZ-hwD3F"
      },
      "execution_count": null,
      "outputs": []
    }
  ]
}