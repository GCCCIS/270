{
 "cells": [
  {
   "cell_type": "markdown",
   "metadata": {
    "id": "7GzBJTcinWUI"
   },
   "source": [
    "### Import Pandas"
   ]
  },
  {
   "cell_type": "code",
   "execution_count": null,
   "metadata": {
    "id": "C2ygXtrjAbry"
   },
   "outputs": [],
   "source": [
    "import pandas as pd"
   ]
  },
  {
   "cell_type": "markdown",
   "metadata": {
    "id": "AE5rzCdLm1pn"
   },
   "source": [
    "### Connect your Google Drive"
   ]
  },
  {
   "cell_type": "code",
   "execution_count": null,
   "metadata": {
    "id": "7v5gtQR5_pox"
   },
   "outputs": [],
   "source": [
    "from google.colab import drive\n",
    "drive.mount('/content/drive')"
   ]
  },
  {
   "cell_type": "markdown",
   "metadata": {
    "id": "1n7cBgK8m-62"
   },
   "source": [
    "### Read the CSV file"
   ]
  },
  {
   "cell_type": "code",
   "execution_count": null,
   "metadata": {
    "id": "mAEE4goNAhVK"
   },
   "outputs": [],
   "source": [
    " df = pd.read_csv('/content/drive/My Drive/wikipedia-largest-companies.csv')"
   ]
  },
  {
   "cell_type": "markdown",
   "metadata": {
    "id": "3ZYURL8RnFIm"
   },
   "source": [
    "### Display the first few lines of the dataframe"
   ]
  },
  {
   "cell_type": "code",
   "execution_count": null,
   "metadata": {
    "id": "oakZp9uzBIDq"
   },
   "outputs": [],
   "source": [
    "df.head()"
   ]
  },
  {
   "cell_type": "markdown",
   "metadata": {
    "id": "z-LXKCyTnQuH"
   },
   "source": [
    "### Set \"Rank\" column as index"
   ]
  },
  {
   "cell_type": "code",
   "execution_count": null,
   "metadata": {
    "id": "kxR9AKCxeooj"
   },
   "outputs": [],
   "source": [
    "df = df.set_index('Rank')"
   ]
  },
  {
   "cell_type": "markdown",
   "metadata": {
    "id": "vHXnAja2nuWH"
   },
   "source": [
    "### Display the first few lines of the dataframe to make sure \"Rank\" is the index"
   ]
  },
  {
   "cell_type": "code",
   "execution_count": null,
   "metadata": {
    "id": "zAGxCIbXBRlr"
   },
   "outputs": [],
   "source": [
    "df.head()"
   ]
  },
  {
   "cell_type": "markdown",
   "metadata": {
    "id": "k8Ceyh_L0Ybh"
   },
   "source": [
    "### Scatter plot Profit vs Employees"
   ]
  },
  {
   "cell_type": "code",
   "execution_count": null,
   "metadata": {
    "id": "yxi9n4Jyp2oC"
   },
   "outputs": [],
   "source": [
    "df.plot(kind='scatter', x='Profit', y='Employees', s=32, alpha=.8)"
   ]
  },
  {
   "cell_type": "markdown",
   "metadata": {
    "id": "5nIghX3b0leQ"
   },
   "source": [
    "### Write code to scatter plot Revenue vs Profit"
   ]
  },
  {
   "cell_type": "code",
   "execution_count": null,
   "metadata": {
    "id": "as9Y5USmqkes"
   },
   "outputs": [],
   "source": [
    "..."
   ]
  },
  {
   "cell_type": "markdown",
   "metadata": {
    "id": "95iakmQ_0yXg"
   },
   "source": [
    "### Group entries together by country and show how many companies there are per country"
   ]
  },
  {
   "cell_type": "code",
   "execution_count": null,
   "metadata": {
    "id": "81A4SR6V_0KN"
   },
   "outputs": [],
   "source": [
    "df.groupby('Country')['Name'].count().sort_values(ascending=False)"
   ]
  },
  {
   "cell_type": "markdown",
   "metadata": {
    "id": "yY2uAV6x2XLK"
   },
   "source": [
    "### Plot a pie chart showing how many companies there are per country"
   ]
  },
  {
   "cell_type": "code",
   "execution_count": null,
   "metadata": {
    "id": "SPdBMGXAEHah"
   },
   "outputs": [],
   "source": [
    "df.groupby('Country')['Name'].count().sort_values(ascending=False).plot(kind='pie', ylabel='')"
   ]
  },
  {
   "cell_type": "markdown",
   "metadata": {
    "id": "2Yh19jQq2reS"
   },
   "source": [
    "### Group entries together by country and show how much profit each country made"
   ]
  },
  {
   "cell_type": "code",
   "execution_count": null,
   "metadata": {
    "id": "Iw-cXo7C0RO6"
   },
   "outputs": [],
   "source": [
    "df.groupby('Country')['Profit'].sum().sort_values(ascending=False)"
   ]
  },
  {
   "cell_type": "markdown",
   "metadata": {
    "id": "viOCggrp3V5x"
   },
   "source": [
    "### Write code to plot a pie chart showing how much profit each country made"
   ]
  },
  {
   "cell_type": "code",
   "execution_count": null,
   "metadata": {
    "id": "qinEkfTf0Q86"
   },
   "outputs": [],
   "source": [
    "..."
   ]
  },
  {
   "cell_type": "markdown",
   "metadata": {
    "id": "lQZOLD8Y3wNA"
   },
   "source": [
    "### Write code to group entries together by Industry and show how many companies there are in each industry"
   ]
  },
  {
   "cell_type": "code",
   "execution_count": null,
   "metadata": {
    "id": "gDhlscTzEItT"
   },
   "outputs": [],
   "source": [
    "..."
   ]
  },
  {
   "cell_type": "markdown",
   "metadata": {
    "id": "OtvrXwTT5nkR"
   },
   "source": [
    "### Write code to plot a pie chart showing how many companies there are in each industry"
   ]
  },
  {
   "cell_type": "code",
   "execution_count": null,
   "metadata": {
    "id": "TlH-c3R612WB"
   },
   "outputs": [],
   "source": [
    "..."
   ]
  },
  {
   "cell_type": "markdown",
   "metadata": {
    "id": "Cucfncq65hOI"
   },
   "source": [
    "### Write code to group entries together by Industry and show how mch profit each industry made"
   ]
  },
  {
   "cell_type": "code",
   "execution_count": null,
   "metadata": {
    "id": "oOEj6kYy2B6U"
   },
   "outputs": [],
   "source": [
    "..."
   ]
  },
  {
   "cell_type": "markdown",
   "metadata": {
    "id": "_xvgcWjX6E0J"
   },
   "source": [
    "### Write code to plot a bar chart showing how much profit each industry made"
   ]
  },
  {
   "cell_type": "code",
   "execution_count": null,
   "metadata": {
    "id": "tnqtelrs1gGq"
   },
   "outputs": [],
   "source": [
    "..."
   ]
  },
  {
   "cell_type": "markdown",
   "metadata": {
    "id": "i2M4Q_gp6UCB"
   },
   "source": [
    "### Group entries together by country and industry and show how many companies there are per industry and per country"
   ]
  },
  {
   "cell_type": "code",
   "execution_count": null,
   "metadata": {
    "id": "1uVgTaGEIaNh"
   },
   "outputs": [],
   "source": [
    "df.groupby(['Country', 'Industry'])['Name'].count().sort_values(ascending=False)"
   ]
  },
  {
   "cell_type": "markdown",
   "metadata": {
    "id": "XkQCfw317m1j"
   },
   "source": [
    "### Unstack the results"
   ]
  },
  {
   "cell_type": "code",
   "execution_count": null,
   "metadata": {
    "id": "U6P0YyFOivz9"
   },
   "outputs": [],
   "source": [
    "df.groupby(['Country', 'Industry'])['Name'].count().sort_values(ascending=False).unstack(level = 0)"
   ]
  },
  {
   "cell_type": "markdown",
   "metadata": {
    "id": "PDpVq4HO7pqa"
   },
   "source": [
    "### Write code to plot a bar chart from the above unstacked results"
   ]
  },
  {
   "cell_type": "code",
   "execution_count": null,
   "metadata": {
    "id": "aC-xR-WLjyeL"
   },
   "outputs": [],
   "source": [
    "..."
   ]
  },
  {
   "cell_type": "markdown",
   "metadata": {},
   "source": [
    "### Convert the notebook to html and submit the html file in canvas for grading"
   ]
  },
  {
   "cell_type": "code",
   "execution_count": null,
   "metadata": {},
   "outputs": [],
   "source": [
    "# !jupyter nbconvert --to html "
   ]
  }
 ],
 "metadata": {
  "colab": {
   "authorship_tag": "ABX9TyMocxti5jmt68UTKZjtA2PY",
   "provenance": [
    {
     "file_id": "1-LtY61HXJ9lQ9wdsO323VRUQk6SPGxi-",
     "timestamp": 1710920592180
    }
   ]
  },
  "kernelspec": {
   "display_name": "Python 3 (ipykernel)",
   "language": "python",
   "name": "python3"
  },
  "language_info": {
   "codemirror_mode": {
    "name": "ipython",
    "version": 3
   },
   "file_extension": ".py",
   "mimetype": "text/x-python",
   "name": "python",
   "nbconvert_exporter": "python",
   "pygments_lexer": "ipython3",
   "version": "3.11.7"
  }
 },
 "nbformat": 4,
 "nbformat_minor": 1
}
