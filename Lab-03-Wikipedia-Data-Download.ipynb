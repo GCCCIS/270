{
  "cells": [
    {
      "cell_type": "markdown",
      "metadata": {
        "id": "XlcFnsxsxnZu"
      },
      "source": [
        "###Import Pandas"
      ]
    },
    {
      "cell_type": "code",
      "execution_count": null,
      "metadata": {
        "id": "lIcTd0al2apq"
      },
      "outputs": [],
      "source": [
        "import pandas as pd"
      ]
    },
    {
      "cell_type": "markdown",
      "metadata": {
        "id": "yNfKqNhSxlqG"
      },
      "source": [
        "### Read tables from Wikipedia"
      ]
    },
    {
      "cell_type": "code",
      "execution_count": null,
      "metadata": {
        "id": "MHTOl-ww_zAF"
      },
      "outputs": [],
      "source": [
        "url = 'https://en.wikipedia.org/wiki/List_of_largest_companies_by_revenue'\n",
        "tables = pd.read_html(url)"
      ]
    },
    {
      "cell_type": "markdown",
      "metadata": {
        "id": "2t3bsLyfx7Wd"
      },
      "source": [
        "###How many tables did we read?"
      ]
    },
    {
      "cell_type": "code",
      "execution_count": null,
      "metadata": {
        "id": "fjkL0a68_3Tc"
      },
      "outputs": [],
      "source": [
        "len(tables)"
      ]
    },
    {
      "cell_type": "markdown",
      "metadata": {
        "id": "0kFozb5WyBl8"
      },
      "source": [
        "###What is in the first table?"
      ]
    },
    {
      "cell_type": "code",
      "execution_count": null,
      "metadata": {
        "id": "Va5JMUwKAAcM"
      },
      "outputs": [],
      "source": [
        "tables[0].head()"
      ]
    },
    {
      "cell_type": "markdown",
      "metadata": {
        "id": "ab5xuzhayFz8"
      },
      "source": [
        "### What is in the second table?"
      ]
    },
    {
      "cell_type": "code",
      "execution_count": null,
      "metadata": {
        "id": "ela-eNLNAGeE"
      },
      "outputs": [],
      "source": [
        "tables[1].head()"
      ]
    },
    {
      "cell_type": "markdown",
      "metadata": {
        "id": "Uf0NQtC5yMZd"
      },
      "source": [
        "### Store the first table in a variable named df"
      ]
    },
    {
      "cell_type": "code",
      "execution_count": null,
      "metadata": {
        "id": "fBanq-WZAOGU"
      },
      "outputs": [],
      "source": [
        "df = tables[0]"
      ]
    },
    {
      "cell_type": "markdown",
      "metadata": {
        "id": "QvmxR1ylyPxF"
      },
      "source": [
        "### Show the first few lines of the df dataframe"
      ]
    },
    {
      "cell_type": "code",
      "execution_count": null,
      "metadata": {
        "id": "Qu6FsDoIARks"
      },
      "outputs": [],
      "source": [
        "df.head()"
      ]
    },
    {
      "cell_type": "markdown",
      "metadata": {
        "id": "UiXmSc0AyWst"
      },
      "source": [
        "### Set the \"Rank\" column as the index"
      ]
    },
    {
      "cell_type": "code",
      "execution_count": null,
      "metadata": {
        "id": "9b8yfIqSAf3s"
      },
      "outputs": [],
      "source": [
        "df = df.set_index('Rank')"
      ]
    },
    {
      "cell_type": "markdown",
      "metadata": {
        "id": "1KrNAzozyhgX"
      },
      "source": [
        " ### Show the columns of the dataframe"
      ]
    },
    {
      "cell_type": "code",
      "execution_count": null,
      "metadata": {
        "id": "3ZFeOVKWA4yL"
      },
      "outputs": [],
      "source": [
        "df.columns"
      ]
    },
    {
      "cell_type": "markdown",
      "metadata": {
        "id": "JEfHeDgOysZt"
      },
      "source": [
        "### Drop the extra level of the columns"
      ]
    },
    {
      "cell_type": "code",
      "execution_count": null,
      "metadata": {
        "id": "UBEhjI-7A8Qj"
      },
      "outputs": [],
      "source": [
        "df.columns = df.columns.droplevel()"
      ]
    },
    {
      "cell_type": "markdown",
      "metadata": {
        "id": "8pKsqLoKy1Mw"
      },
      "source": [
        "### Show the columns of the dataframe again to make sure they look good"
      ]
    },
    {
      "cell_type": "code",
      "execution_count": null,
      "metadata": {
        "id": "zCpqkvjrBB0E"
      },
      "outputs": [],
      "source": [
        "df.columns"
      ]
    },
    {
      "cell_type": "markdown",
      "metadata": {
        "id": "_-XJOMtPy_Eu"
      },
      "source": [
        "### Rename columns and drop columns we don't need"
      ]
    },
    {
      "cell_type": "code",
      "execution_count": null,
      "metadata": {
        "id": "T3IecYpRBm1d"
      },
      "outputs": [],
      "source": [
        "df.columns.values[3] = \"Revenue\"\n",
        "df.columns.values[4] = \"Profit\"\n",
        "df.columns.values[6] = \"Country\"\n",
        "df = df.drop('State-owned', axis=1)\n",
        "df = df.drop('Ref.', axis=1)\n",
        "df.head()"
      ]
    },
    {
      "cell_type": "markdown",
      "metadata": {
        "id": "k_9xZrE-zMNm"
      },
      "source": [
        "### Setting \"Rank\" as the index should work now"
      ]
    },
    {
      "cell_type": "code",
      "execution_count": null,
      "metadata": {
        "id": "DSZBpImlBsyE"
      },
      "outputs": [],
      "source": [
        "df = df.set_index('Rank')"
      ]
    },
    {
      "cell_type": "markdown",
      "metadata": {
        "id": "_uNTYngazSsv"
      },
      "source": [
        "### Show the first few lines of the dataframe again to make sure \"Rank\" is the index"
      ]
    },
    {
      "cell_type": "code",
      "execution_count": null,
      "metadata": {
        "id": "zqVcCcOOBvOT"
      },
      "outputs": [],
      "source": [
        "df.head()"
      ]
    },
    {
      "cell_type": "markdown",
      "metadata": {
        "id": "gZ728JKfzgpP"
      },
      "source": [
        "### Display information about the dataframe and check dtypes"
      ]
    },
    {
      "cell_type": "code",
      "execution_count": null,
      "metadata": {
        "id": "oYOeA2GBB0Kt"
      },
      "outputs": [],
      "source": [
        "df.info()"
      ]
    },
    {
      "cell_type": "markdown",
      "metadata": {
        "id": "vMOoVPifz2gn"
      },
      "source": [
        "### Set the \"Revenue\" column to numeric"
      ]
    },
    {
      "cell_type": "code",
      "execution_count": null,
      "metadata": {
        "id": "cHfc2lkTCCfs"
      },
      "outputs": [],
      "source": [
        "df[\"Revenue\"] = pd.to_numeric(df['Revenue'])"
      ]
    },
    {
      "cell_type": "markdown",
      "metadata": {
        "id": "lik4DuYR02TX"
      },
      "source": [
        "### Remove $ and , from the Revenue column"
      ]
    },
    {
      "cell_type": "code",
      "execution_count": null,
      "metadata": {
        "id": "9-Er8kFGCMxd"
      },
      "outputs": [],
      "source": [
        "df['Revenue'] = df['Revenue'].str.replace('[\\$,]', '', regex=True)"
      ]
    },
    {
      "cell_type": "markdown",
      "metadata": {
        "id": "TblwwJCT0-o2"
      },
      "source": [
        "### Set the \"Revenue\" column to numeric, it should work now"
      ]
    },
    {
      "cell_type": "code",
      "execution_count": null,
      "metadata": {
        "id": "-_hxU3d4CY-0"
      },
      "outputs": [],
      "source": [
        "df[\"Revenue\"] = pd.to_numeric(df['Revenue'])"
      ]
    },
    {
      "cell_type": "markdown",
      "metadata": {
        "id": "SZjk_B7k1X5Y"
      },
      "source": [
        "### Display information about the dataframe and verify thet the \"Revenue\" column is now numeric"
      ]
    },
    {
      "cell_type": "code",
      "execution_count": null,
      "metadata": {
        "id": "sAQUM0kzCbUc"
      },
      "outputs": [],
      "source": [
        "df.info()"
      ]
    },
    {
      "cell_type": "markdown",
      "metadata": {
        "id": "197CZJ1N1v9F"
      },
      "source": [
        "### Remove $ and , from the \"Profit\" column"
      ]
    },
    {
      "cell_type": "code",
      "execution_count": null,
      "metadata": {
        "id": "2rSNzeUkCgPb"
      },
      "outputs": [],
      "source": [
        "df['Profit'] = df['Profit'].str.replace('[\\$,]', '', regex=True)"
      ]
    },
    {
      "cell_type": "markdown",
      "metadata": {
        "id": "2hENqVXP2CIF"
      },
      "source": [
        "### Set the \"Profit\" column to numeric"
      ]
    },
    {
      "cell_type": "code",
      "execution_count": null,
      "metadata": {
        "id": "Yp5YWwp71-rb"
      },
      "outputs": [],
      "source": [
        "df[\"Profit\"] = pd.to_numeric(df['Profit'])"
      ]
    },
    {
      "cell_type": "code",
      "source": [],
      "metadata": {
        "id": "QfywXMIaB4ma"
      },
      "execution_count": null,
      "outputs": []
    },
    {
      "cell_type": "markdown",
      "metadata": {
        "id": "Opd46uBp33IH"
      },
      "source": [
        "### Display information about the dataframe and verify thet the \"Profit\" column is now numeric"
      ]
    },
    {
      "cell_type": "code",
      "execution_count": null,
      "metadata": {
        "id": "oN2CCtSVDwSs"
      },
      "outputs": [],
      "source": [
        "df.info()"
      ]
    },
    {
      "cell_type": "markdown",
      "metadata": {
        "id": "vZCatA5g4ZQH"
      },
      "source": [
        "### Show the first few lines of the df dataframe and see if your data looks good"
      ]
    },
    {
      "cell_type": "code",
      "execution_count": null,
      "metadata": {
        "id": "3nk3zl6-DzJM"
      },
      "outputs": [],
      "source": [
        "df.head()"
      ]
    },
    {
      "cell_type": "markdown",
      "metadata": {
        "id": "lslp-0vE2Q5N"
      },
      "source": [
        "### Connect your Google Drive"
      ]
    },
    {
      "cell_type": "code",
      "execution_count": null,
      "metadata": {
        "id": "aKvhAvAED-gk"
      },
      "outputs": [],
      "source": [
        "from google.colab import drive\n",
        "drive.mount('/content/drive')"
      ]
    },
    {
      "cell_type": "markdown",
      "metadata": {
        "id": "9blCpPqQ2U5W"
      },
      "source": [
        "### Save the dataframe as a CSV file to your Google Drive"
      ]
    },
    {
      "cell_type": "code",
      "execution_count": null,
      "metadata": {
        "id": "0kHPnsnEEOGz"
      },
      "outputs": [],
      "source": [
        "df.to_csv('/content/drive/My Drive/wikipedia-largest-companies.csv', index=True)"
      ]
    },
    {
      "cell_type": "markdown",
      "metadata": {
        "id": "M1fXjqXX_mEC"
      },
      "source": [
        "### Convert the notebook to html and submit the html file in canvas for grading"
      ]
    },
    {
      "cell_type": "code",
      "execution_count": null,
      "metadata": {
        "id": "o6NkoDbw_mED"
      },
      "outputs": [],
      "source": [
        "# !jupyter nbconvert --to html"
      ]
    }
  ],
  "metadata": {
    "colab": {
      "provenance": []
    },
    "kernelspec": {
      "display_name": "Python 3 (ipykernel)",
      "language": "python",
      "name": "python3"
    },
    "language_info": {
      "codemirror_mode": {
        "name": "ipython",
        "version": 3
      },
      "file_extension": ".py",
      "mimetype": "text/x-python",
      "name": "python",
      "nbconvert_exporter": "python",
      "pygments_lexer": "ipython3",
      "version": "3.11.7"
    }
  },
  "nbformat": 4,
  "nbformat_minor": 0
}