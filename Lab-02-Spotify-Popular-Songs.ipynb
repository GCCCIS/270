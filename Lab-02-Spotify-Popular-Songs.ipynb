{
  "cells": [
    {
      "cell_type": "markdown",
      "metadata": {
        "id": "imi93_etH_eE"
      },
      "source": [
        "### Import Pandas"
      ]
    },
    {
      "cell_type": "code",
      "execution_count": null,
      "metadata": {
        "id": "wb5qi18nyzEE"
      },
      "outputs": [],
      "source": [
        "import pandas as pd"
      ]
    },
    {
      "cell_type": "markdown",
      "metadata": {
        "id": "U8QJGepyIErJ"
      },
      "source": [
        "### Downlaod the popular Spotify songs CSV file and store in a vriable named df"
      ]
    },
    {
      "cell_type": "code",
      "execution_count": null,
      "metadata": {
        "id": "0SVfZCCX1Bty"
      },
      "outputs": [],
      "source": [
        "url=\"https://www-02.s3.amazonaws.com/Popular_Spotify_Songs.csv\"\n",
        "df = pd.read_csv(url, encoding='latin-1')"
      ]
    },
    {
      "cell_type": "markdown",
      "metadata": {
        "id": "XDxMhilmIPSJ"
      },
      "source": [
        "### How many rows and columns does df have?"
      ]
    },
    {
      "cell_type": "code",
      "execution_count": null,
      "metadata": {
        "id": "rYJTzHw-1FiJ"
      },
      "outputs": [],
      "source": [
        " df.shape"
      ]
    },
    {
      "cell_type": "markdown",
      "metadata": {
        "id": "1ci2IH4rIrVp"
      },
      "source": [
        "### What kind of a variable is df.shape?"
      ]
    },
    {
      "cell_type": "code",
      "execution_count": null,
      "metadata": {
        "id": "ErGHA5yz1JZp"
      },
      "outputs": [],
      "source": [
        "type(df.shape)"
      ]
    },
    {
      "cell_type": "markdown",
      "metadata": {
        "id": "77odeNgTI3_4"
      },
      "source": [
        "### How many rows?"
      ]
    },
    {
      "cell_type": "code",
      "execution_count": null,
      "metadata": {
        "id": "a04gODzi1Mkp"
      },
      "outputs": [],
      "source": [
        "df.shape[0]"
      ]
    },
    {
      "cell_type": "markdown",
      "metadata": {
        "id": "Cp_MHsa3I6zL"
      },
      "source": [
        "### How many columns?"
      ]
    },
    {
      "cell_type": "code",
      "execution_count": null,
      "metadata": {
        "id": "-yKYDaBo1Oh5"
      },
      "outputs": [],
      "source": [
        "df.shape[1]"
      ]
    },
    {
      "cell_type": "markdown",
      "metadata": {
        "id": "2n0i3Ia7JBTD"
      },
      "source": [
        "### Print the number of rows and columns nicely in a sentence"
      ]
    },
    {
      "cell_type": "code",
      "execution_count": null,
      "metadata": {
        "id": "NSG9e8lD1RGq"
      },
      "outputs": [],
      "source": [
        "print(f\"There are {df.shape[0]} rows and {df.shape[1]} columns in this dataframe\")"
      ]
    },
    {
      "cell_type": "markdown",
      "metadata": {
        "id": "3myibN2cJP2J"
      },
      "source": [
        "### Display information about our dataframe stored in df"
      ]
    },
    {
      "cell_type": "code",
      "execution_count": null,
      "metadata": {
        "id": "sRlKxXzF1VBJ"
      },
      "outputs": [],
      "source": [
        "df.info()"
      ]
    },
    {
      "cell_type": "markdown",
      "metadata": {
        "id": "ip-JhZXIJXmp"
      },
      "source": [
        "### Show some statistics about the data in our dataframe"
      ]
    },
    {
      "cell_type": "code",
      "execution_count": null,
      "metadata": {
        "id": "SUL_ajlA1mMC"
      },
      "outputs": [],
      "source": [
        "df.describe()"
      ]
    },
    {
      "cell_type": "markdown",
      "metadata": {
        "id": "Owa03WN4JfoA"
      },
      "source": [
        "### Show some non-numeric information about the data stored in our dataframe"
      ]
    },
    {
      "cell_type": "code",
      "execution_count": null,
      "metadata": {
        "id": "rzg0nhwr1qJy"
      },
      "outputs": [],
      "source": [
        "df.describe(exclude = \"number\")"
      ]
    },
    {
      "cell_type": "markdown",
      "metadata": {
        "id": "UxdB_nTAJrdp"
      },
      "source": [
        "### How many artists do we have on our list?"
      ]
    },
    {
      "cell_type": "code",
      "execution_count": null,
      "metadata": {
        "id": "orplFJrF1xUS"
      },
      "outputs": [],
      "source": [
        "df['artist(s)_name'].nunique()"
      ]
    },
    {
      "cell_type": "markdown",
      "metadata": {
        "id": "pudvMhL3J0m4"
      },
      "source": [
        "### How many songs per artist?"
      ]
    },
    {
      "cell_type": "code",
      "execution_count": null,
      "metadata": {
        "id": "PkYoDXuQ17-1"
      },
      "outputs": [],
      "source": [
        "df['artist(s)_name'].value_counts()"
      ]
    },
    {
      "cell_type": "markdown",
      "metadata": {
        "id": "WYDroSSnJ8ua"
      },
      "source": [
        "### Show our dataframe"
      ]
    },
    {
      "cell_type": "code",
      "execution_count": null,
      "metadata": {
        "id": "3GCLSltS2HOb"
      },
      "outputs": [],
      "source": [
        "df"
      ]
    },
    {
      "cell_type": "markdown",
      "metadata": {
        "id": "J-Sn-AeUKIGC"
      },
      "source": [
        "### Show row \\#4 of our dataframe"
      ]
    },
    {
      "cell_type": "code",
      "execution_count": null,
      "metadata": {
        "id": "AHISkQaM2STs"
      },
      "outputs": [],
      "source": [
        "print(df.loc[4])"
      ]
    },
    {
      "cell_type": "markdown",
      "metadata": {
        "id": "ZUAgQa9JKNDS"
      },
      "source": [
        "### What is our max display column width set to?"
      ]
    },
    {
      "cell_type": "code",
      "execution_count": null,
      "metadata": {
        "id": "7b8ds1nk2bO0"
      },
      "outputs": [],
      "source": [
        "pd.options.display.max_colwidth"
      ]
    },
    {
      "cell_type": "markdown",
      "metadata": {
        "id": "1HVcNq75Kbq7"
      },
      "source": [
        "### Set maximum column width to unlimited, display row \\#4 then set maximum column width to 5"
      ]
    },
    {
      "cell_type": "code",
      "execution_count": null,
      "metadata": {
        "id": "rOQe-zt-2oFi"
      },
      "outputs": [],
      "source": [
        "pd.options.display.max_colwidth = None\n",
        "print(df.loc[4])\n",
        "pd.options.display.max_colwidth = 5"
      ]
    },
    {
      "cell_type": "markdown",
      "metadata": {
        "id": "aQIQXp5wK3fR"
      },
      "source": [
        "### Find songs that have streamed over 3 billion times"
      ]
    },
    {
      "cell_type": "code",
      "execution_count": null,
      "metadata": {
        "id": "3tx9R7Y12zUT"
      },
      "outputs": [],
      "source": [
        "popular_songs = df.query('streams > 3_000_000_000')"
      ]
    },
    {
      "cell_type": "markdown",
      "metadata": {
        "id": "87BGNM89K__p"
      },
      "source": [
        "### Set the \"Streams\" column to numeric"
      ]
    },
    {
      "cell_type": "code",
      "execution_count": null,
      "metadata": {
        "id": "VsiomWqH3HGW"
      },
      "outputs": [],
      "source": [
        "df[\"streams\"] = pd.to_numeric(df['streams'])"
      ]
    },
    {
      "cell_type": "markdown",
      "metadata": {
        "id": "L3aVyfbWLG-D"
      },
      "source": [
        "### Display row \\#574"
      ]
    },
    {
      "cell_type": "code",
      "execution_count": null,
      "metadata": {
        "id": "miE9l8AN3Rnk"
      },
      "outputs": [],
      "source": [
        "pd.options.display.max_colwidth = None\n",
        "print(df.loc[574])\n",
        "pd.options.display.max_colwidth = 5"
      ]
    },
    {
      "cell_type": "markdown",
      "metadata": {
        "id": "JPANo_AFLPdS"
      },
      "source": [
        "### Display the \"Streams\" column of row \\#574"
      ]
    },
    {
      "cell_type": "code",
      "execution_count": null,
      "metadata": {
        "id": "deYijPAV3kg8"
      },
      "outputs": [],
      "source": [
        "df.loc[574]['streams']"
      ]
    },
    {
      "cell_type": "markdown",
      "metadata": {
        "id": "oCJSaRPdLXma"
      },
      "source": [
        "### Set the \"Streams\" column of row \\#574 to blank"
      ]
    },
    {
      "cell_type": "code",
      "execution_count": null,
      "metadata": {
        "id": "NIc-DAB43qBb"
      },
      "outputs": [],
      "source": [
        "df.loc[574, 'streams'] = ''"
      ]
    },
    {
      "cell_type": "markdown",
      "metadata": {
        "id": "pFHsndNuLhQy"
      },
      "source": [
        "### Display the \"Streams\" column of row \\#574"
      ]
    },
    {
      "cell_type": "code",
      "execution_count": null,
      "metadata": {
        "id": "ckph6v_e3teT"
      },
      "outputs": [],
      "source": [
        "Display the \"Streams\" column of row #574"
      ]
    },
    {
      "cell_type": "markdown",
      "metadata": {
        "id": "DnzrgDAPLzVo"
      },
      "source": [
        "### Set the \"Streams\" column to numeric, it should work now."
      ]
    },
    {
      "cell_type": "code",
      "execution_count": null,
      "metadata": {
        "id": "wnJXOdYw3xn7"
      },
      "outputs": [],
      "source": [
        "df[\"streams\"] = pd.to_numeric(df['streams'])"
      ]
    },
    {
      "cell_type": "markdown",
      "metadata": {
        "id": "CwgXFnx0MUIC"
      },
      "source": [
        "### Find songs that have streamed over 3 billion times, it should work now"
      ]
    },
    {
      "cell_type": "code",
      "execution_count": null,
      "metadata": {
        "id": "XfmtqVzJ323D"
      },
      "outputs": [],
      "source": [
        "popular_songs = df.query('streams > 3_000_000_000')"
      ]
    },
    {
      "cell_type": "code",
      "execution_count": null,
      "metadata": {
        "id": "yMgXvIj139XL"
      },
      "outputs": [],
      "source": [
        "popular_songs"
      ]
    },
    {
      "cell_type": "markdown",
      "metadata": {
        "id": "XXQeh4YrMpcB"
      },
      "source": [
        "### Show the first popular song"
      ]
    },
    {
      "cell_type": "code",
      "execution_count": null,
      "metadata": {
        "id": "3vZGBb1f4HQU"
      },
      "outputs": [],
      "source": [
        "pd.options.display.max_colwidth = None\n",
        "print(df.loc[55])\n",
        "pd.options.display.max_colwidth = 5"
      ]
    },
    {
      "cell_type": "markdown",
      "metadata": {
        "id": "CoF2ZrHcMxWx"
      },
      "source": [
        "### Show the second popular song"
      ]
    },
    {
      "cell_type": "code",
      "execution_count": null,
      "metadata": {
        "id": "V8Xqo5qD4J00"
      },
      "outputs": [],
      "source": [
        "pd.options.display.max_colwidth = None\n",
        "print(df.loc[179])\n",
        "pd.options.display.max_colwidth = 5"
      ]
    },
    {
      "cell_type": "markdown",
      "metadata": {
        "id": "l0rq_2Zl78-6"
      },
      "source": [
        "### Convert the notebook to html and submit the html file in canvas for grading"
      ]
    },
    {
      "cell_type": "code",
      "execution_count": null,
      "metadata": {
        "id": "BCAJF_p778-6"
      },
      "outputs": [],
      "source": [
        "# !jupyter nbconvert --to html"
      ]
    }
  ],
  "metadata": {
    "colab": {
      "provenance": []
    },
    "kernelspec": {
      "display_name": "Python 3 (ipykernel)",
      "language": "python",
      "name": "python3"
    },
    "language_info": {
      "codemirror_mode": {
        "name": "ipython",
        "version": 3
      },
      "file_extension": ".py",
      "mimetype": "text/x-python",
      "name": "python",
      "nbconvert_exporter": "python",
      "pygments_lexer": "ipython3",
      "version": "3.11.7"
    }
  },
  "nbformat": 4,
  "nbformat_minor": 0
}