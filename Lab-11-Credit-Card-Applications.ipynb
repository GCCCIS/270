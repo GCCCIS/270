{
  "nbformat": 4,
  "nbformat_minor": 0,
  "metadata": {
    "colab": {
      "provenance": []
    },
    "kernelspec": {
      "name": "python3",
      "display_name": "Python 3"
    },
    "language_info": {
      "name": "python"
    }
  },
  "cells": [
    {
      "cell_type": "markdown",
      "source": [
        "###Import Pandas"
      ],
      "metadata": {
        "id": "4J5bJkyVbxZV"
      }
    },
    {
      "cell_type": "code",
      "execution_count": null,
      "metadata": {
        "id": "uISVKwCcbGVJ"
      },
      "outputs": [],
      "source": [
        "import pandas as pd"
      ]
    },
    {
      "cell_type": "markdown",
      "source": [
        "###Read data file"
      ],
      "metadata": {
        "id": "qUs53yyYJc3H"
      }
    },
    {
      "cell_type": "code",
      "source": [
        "df = pd.read_csv(\"/content/Credit_Card_Applications.csv\")"
      ],
      "metadata": {
        "id": "89whSGeAthfw"
      },
      "execution_count": null,
      "outputs": []
    },
    {
      "cell_type": "markdown",
      "source": [
        "###Display dataframe"
      ],
      "metadata": {
        "id": "obeo86KXJi8D"
      }
    },
    {
      "cell_type": "code",
      "source": [
        "df.head()"
      ],
      "metadata": {
        "id": "mOy_iGE4uKxD"
      },
      "execution_count": null,
      "outputs": []
    },
    {
      "cell_type": "markdown",
      "source": [
        "###Make CustomerID the index"
      ],
      "metadata": {
        "id": "ZGzTzTHDJmDB"
      }
    },
    {
      "cell_type": "code",
      "source": [
        "df = df.set_index('CustomerID')"
      ],
      "metadata": {
        "id": "9A_dVhGUu5xb"
      },
      "execution_count": null,
      "outputs": []
    },
    {
      "cell_type": "markdown",
      "source": [
        "###Display dataframe"
      ],
      "metadata": {
        "id": "FRYVEvTnJqyu"
      }
    },
    {
      "cell_type": "code",
      "source": [
        "df.head()"
      ],
      "metadata": {
        "id": "LnK2Q5Li9N3F"
      },
      "execution_count": null,
      "outputs": []
    },
    {
      "cell_type": "markdown",
      "source": [
        "###Prepare x and y values"
      ],
      "metadata": {
        "id": "quRDtFB0Jvhn"
      }
    },
    {
      "cell_type": "code",
      "source": [
        "x = df.drop(\"Class\", axis=1)\n",
        "y = df.Class"
      ],
      "metadata": {
        "id": "pKXLDA_59qY8"
      },
      "execution_count": null,
      "outputs": []
    },
    {
      "cell_type": "markdown",
      "source": [
        "###Split the data"
      ],
      "metadata": {
        "id": "man6Z9fZJ7_r"
      }
    },
    {
      "cell_type": "code",
      "source": [
        "from sklearn.model_selection import train_test_split\n",
        "x_train, x_test, y_train, y_test = train_test_split(x, y, test_size = 0.2)"
      ],
      "metadata": {
        "id": "LOyzCN8W-Dld"
      },
      "execution_count": null,
      "outputs": []
    },
    {
      "cell_type": "markdown",
      "source": [
        "###Function to print model performance data"
      ],
      "metadata": {
        "id": "hmclqqqoC5fq"
      }
    },
    {
      "cell_type": "code",
      "source": [
        "from sklearn.metrics import classification_report , confusion_matrix, accuracy_score\n",
        "def performance(model, x_test, y_test):\n",
        "    y_pred = model.predict(x_test)\n",
        "    print(\"classification_report:\\n\", classification_report(y_test, y_pred))\n",
        "    print(\"confusion_matrix:\", confusion_matrix(y_test, y_pred))\n",
        "    print(\"accuracy_score:\", accuracy_score(y_test, y_pred))\n",
        "    return accuracy_score(y_test, y_pred)"
      ],
      "metadata": {
        "id": "4WDM0sER-GP8"
      },
      "execution_count": null,
      "outputs": []
    },
    {
      "cell_type": "markdown",
      "source": [
        "###Dictionary to hold performance results"
      ],
      "metadata": {
        "id": "tDXZvwe9KFuG"
      }
    },
    {
      "cell_type": "code",
      "source": [
        "results = {}"
      ],
      "metadata": {
        "id": "5Nz_qaIhDk-C"
      },
      "execution_count": null,
      "outputs": []
    },
    {
      "cell_type": "markdown",
      "source": [
        "###Decision Tree"
      ],
      "metadata": {
        "id": "c9iyLzSm_Xx2"
      }
    },
    {
      "cell_type": "code",
      "source": [
        "from sklearn.tree import DecisionTreeClassifier\n",
        "decision_tree = DecisionTreeClassifier()\n",
        "decision_tree.fit(x_train, y_train)\n",
        "p = performance(decision_tree, x_test, y_test)\n",
        "results['DecisionTreeClassifier'] = p"
      ],
      "metadata": {
        "id": "_CI6vs0Y-7dn"
      },
      "execution_count": null,
      "outputs": []
    },
    {
      "cell_type": "markdown",
      "source": [
        "###Random Forest"
      ],
      "metadata": {
        "id": "O_wMqqs2_e40"
      }
    },
    {
      "cell_type": "code",
      "source": [
        "from sklearn.ensemble import RandomForestClassifier\n",
        "random_forest = RandomForestClassifier()\n",
        "random_forest.fit(x_train, y_train)\n",
        "p = performance(random_forest, x_test, y_test)\n",
        "results['RandomForestClassifier'] = p"
      ],
      "metadata": {
        "id": "8au3Ej7k_lxc"
      },
      "execution_count": null,
      "outputs": []
    },
    {
      "cell_type": "markdown",
      "source": [
        "###Logistic Regression"
      ],
      "metadata": {
        "id": "IDN1LaL__3Ol"
      }
    },
    {
      "cell_type": "code",
      "source": [
        "from sklearn.linear_model import LogisticRegression\n",
        "logistic_regression = LogisticRegression(max_iter=10000)\n",
        "logistic_regression.fit(x_train, y_train)\n",
        "p = performance(logistic_regression, x_test, y_test)\n",
        "results['LogisticRegression'] = p"
      ],
      "metadata": {
        "id": "00a2ZOgy_8tM"
      },
      "execution_count": null,
      "outputs": []
    },
    {
      "cell_type": "markdown",
      "source": [
        "###Gradient Boosting"
      ],
      "metadata": {
        "id": "EtjsY3FIAZU0"
      }
    },
    {
      "cell_type": "code",
      "source": [
        "from sklearn.ensemble import GradientBoostingClassifier\n",
        "gradient_boosting = GradientBoostingClassifier()\n",
        "gradient_boosting.fit(x_train, y_train)\n",
        "p = performance(gradient_boosting, x_test, y_test)\n",
        "results['GradientBoostingClassifier'] = p"
      ],
      "metadata": {
        "id": "vt0fs-oVAfd2"
      },
      "execution_count": null,
      "outputs": []
    },
    {
      "cell_type": "markdown",
      "source": [
        "###Ada Boosting"
      ],
      "metadata": {
        "id": "jWqQDDGyA5LN"
      }
    },
    {
      "cell_type": "code",
      "source": [
        "from sklearn.ensemble import AdaBoostClassifier\n",
        "ada_boosting = AdaBoostClassifier()\n",
        "ada_boosting.fit(x_train, y_train)\n",
        "p = performance(ada_boosting, x_test, y_test)\n",
        "results['AdaBoostClassifier'] = p"
      ],
      "metadata": {
        "id": "li9CvNwtBAIy"
      },
      "execution_count": null,
      "outputs": []
    },
    {
      "cell_type": "markdown",
      "source": [
        "###K-Nearest Neihbors"
      ],
      "metadata": {
        "id": "S18fodWsBSOr"
      }
    },
    {
      "cell_type": "code",
      "source": [
        "from sklearn.neighbors import KNeighborsClassifier\n",
        "knn = KNeighborsClassifier()\n",
        "knn.fit(x_train, y_train)\n",
        "p = performance(knn, x_test, y_test)\n",
        "results['KNeighborsClassifier'] = p"
      ],
      "metadata": {
        "id": "k74lGys5BYod"
      },
      "execution_count": null,
      "outputs": []
    },
    {
      "cell_type": "markdown",
      "source": [
        "###SVC"
      ],
      "metadata": {
        "id": "0mJKKCw3BnSa"
      }
    },
    {
      "cell_type": "code",
      "source": [
        "from sklearn.svm import SVC\n",
        "svm = SVC()\n",
        "svm.fit(x_train, y_train)\n",
        "p = performance(svm, x_test, y_test)\n",
        "results['SVC'] = p"
      ],
      "metadata": {
        "id": "ZRSd0lP0BpK1"
      },
      "execution_count": null,
      "outputs": []
    },
    {
      "cell_type": "markdown",
      "source": [
        "###Naive Bayes"
      ],
      "metadata": {
        "id": "WeSN1dEvCO6t"
      }
    },
    {
      "cell_type": "code",
      "source": [
        "from sklearn.naive_bayes import GaussianNB\n",
        "naive_bayes = GaussianNB()\n",
        "naive_bayes.fit(x_train, y_train)\n",
        "p = performance(naive_bayes, x_test, y_test)\n",
        "results['GaussianNB'] = p"
      ],
      "metadata": {
        "id": "dqHiHJ-BCSO7"
      },
      "execution_count": null,
      "outputs": []
    },
    {
      "cell_type": "markdown",
      "source": [
        "###MLP"
      ],
      "metadata": {
        "id": "nzwdzXDYCl5L"
      }
    },
    {
      "cell_type": "code",
      "source": [
        "from sklearn.neural_network import MLPClassifier\n",
        "MLP = MLPClassifier()\n",
        "MLP.fit(x_train, y_train)\n",
        "p = performance(MLP, x_test, y_test)\n",
        "results['MLPClassifier'] = p"
      ],
      "metadata": {
        "id": "mx4-XBxFCoU7"
      },
      "execution_count": null,
      "outputs": []
    },
    {
      "cell_type": "markdown",
      "source": [
        "###Compare results"
      ],
      "metadata": {
        "id": "o4dLPtbUF8rD"
      }
    },
    {
      "cell_type": "code",
      "source": [
        "for model in results:\n",
        "  print(f\"{model}, {results[model]:.2f}\")"
      ],
      "metadata": {
        "id": "xBgGjrpUGAb0"
      },
      "execution_count": null,
      "outputs": []
    },
    {
      "cell_type": "markdown",
      "source": [
        "### Convert the notebook to html and submit the html file in canvas for grading"
      ],
      "metadata": {
        "id": "IZ7_5v9IJVUl"
      }
    },
    {
      "cell_type": "code",
      "source": [
        "# !jupyter nbconvert --to html"
      ],
      "metadata": {
        "id": "kQ2B5LYAJWXD"
      },
      "execution_count": null,
      "outputs": []
    }
  ]
}